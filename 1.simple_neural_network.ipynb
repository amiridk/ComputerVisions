{
 "cells": [
  {
   "cell_type": "code",
   "execution_count": 14,
   "id": "5083f992",
   "metadata": {},
   "outputs": [],
   "source": [
    "from tensorflow import keras\n",
    "from keras.models import Sequential\n",
    "from keras.layers import Dense\n",
    "import numpy as np\n",
    "from dataset import load_hoda"
   ]
  },
  {
   "cell_type": "code",
   "execution_count": 15,
   "id": "b0c3c67f",
   "metadata": {},
   "outputs": [],
   "source": [
    "x_train_orginal , y_train_orginal , x_test_orginal , y_test_orginal = load_hoda()"
   ]
  },
  {
   "cell_type": "code",
   "execution_count": 16,
   "id": "e8de2d98",
   "metadata": {},
   "outputs": [],
   "source": [
    "y_train = keras.utils.to_categorical(y_train_orginal , num_classes=10)\n",
    "y_test = keras.utils.to_categorical(y_test_orginal, num_classes=10)"
   ]
  },
  {
   "cell_type": "code",
   "execution_count": 17,
   "id": "717d55c5",
   "metadata": {},
   "outputs": [],
   "source": [
    "x_train = x_train_orginal.astype('float32')\n",
    "x_test = x_test_orginal.astype('float32')\n",
    "x_train /= 255\n",
    "x_test /= 255"
   ]
  },
  {
   "cell_type": "code",
   "execution_count": 18,
   "id": "93adef99",
   "metadata": {},
   "outputs": [],
   "source": [
    "model = Sequential()\n",
    "model.add(Dense(64 , activation='relu' , input_dim = 25))\n",
    "model.add(Dense(10, activation='softmax'))"
   ]
  },
  {
   "cell_type": "code",
   "execution_count": 19,
   "id": "8be903fd",
   "metadata": {},
   "outputs": [
    {
     "name": "stdout",
     "output_type": "stream",
     "text": [
      "Model: \"sequential_1\"\n",
      "_________________________________________________________________\n",
      " Layer (type)                Output Shape              Param #   \n",
      "=================================================================\n",
      " dense_2 (Dense)             (None, 64)                1664      \n",
      "                                                                 \n",
      " dense_3 (Dense)             (None, 10)                650       \n",
      "                                                                 \n",
      "=================================================================\n",
      "Total params: 2,314\n",
      "Trainable params: 2,314\n",
      "Non-trainable params: 0\n",
      "_________________________________________________________________\n"
     ]
    }
   ],
   "source": [
    "model.summary()"
   ]
  },
  {
   "cell_type": "code",
   "execution_count": 20,
   "id": "f48339cb",
   "metadata": {},
   "outputs": [],
   "source": [
    "model.compile(loss = 'categorical_crossentropy', optimizer = 'rmsprop', metrics = ['accuracy'])"
   ]
  },
  {
   "cell_type": "code",
   "execution_count": 21,
   "id": "01821331",
   "metadata": {},
   "outputs": [
    {
     "name": "stdout",
     "output_type": "stream",
     "text": [
      "Epoch 1/100\n",
      "13/13 [==============================] - 1s 23ms/step - loss: 2.2440 - accuracy: 0.1500 - val_loss: 2.0860 - val_accuracy: 0.3600\n",
      "Epoch 2/100\n",
      "13/13 [==============================] - 0s 3ms/step - loss: 2.0266 - accuracy: 0.3750 - val_loss: 1.9136 - val_accuracy: 0.5300\n",
      "Epoch 3/100\n",
      "13/13 [==============================] - 0s 4ms/step - loss: 1.8643 - accuracy: 0.5512 - val_loss: 1.7615 - val_accuracy: 0.6650\n",
      "Epoch 4/100\n",
      "13/13 [==============================] - 0s 5ms/step - loss: 1.7107 - accuracy: 0.6550 - val_loss: 1.6156 - val_accuracy: 0.7150\n",
      "Epoch 5/100\n",
      "13/13 [==============================] - 0s 4ms/step - loss: 1.5642 - accuracy: 0.7113 - val_loss: 1.4786 - val_accuracy: 0.7550\n",
      "Epoch 6/100\n",
      "13/13 [==============================] - 0s 4ms/step - loss: 1.4242 - accuracy: 0.7563 - val_loss: 1.3488 - val_accuracy: 0.7700\n",
      "Epoch 7/100\n",
      "13/13 [==============================] - 0s 3ms/step - loss: 1.2914 - accuracy: 0.7750 - val_loss: 1.2264 - val_accuracy: 0.7800\n",
      "Epoch 8/100\n",
      "13/13 [==============================] - 0s 4ms/step - loss: 1.1676 - accuracy: 0.7987 - val_loss: 1.1101 - val_accuracy: 0.7850\n",
      "Epoch 9/100\n",
      "13/13 [==============================] - 0s 4ms/step - loss: 1.0552 - accuracy: 0.8125 - val_loss: 1.0065 - val_accuracy: 0.7950\n",
      "Epoch 10/100\n",
      "13/13 [==============================] - 0s 4ms/step - loss: 0.9561 - accuracy: 0.8200 - val_loss: 0.9188 - val_accuracy: 0.8000\n",
      "Epoch 11/100\n",
      "13/13 [==============================] - 0s 4ms/step - loss: 0.8669 - accuracy: 0.8300 - val_loss: 0.8401 - val_accuracy: 0.8000\n",
      "Epoch 12/100\n",
      "13/13 [==============================] - 0s 6ms/step - loss: 0.7912 - accuracy: 0.8350 - val_loss: 0.7761 - val_accuracy: 0.8100\n",
      "Epoch 13/100\n",
      "13/13 [==============================] - 0s 4ms/step - loss: 0.7246 - accuracy: 0.8487 - val_loss: 0.7186 - val_accuracy: 0.8100\n",
      "Epoch 14/100\n",
      "13/13 [==============================] - 0s 4ms/step - loss: 0.6708 - accuracy: 0.8475 - val_loss: 0.6757 - val_accuracy: 0.8250\n",
      "Epoch 15/100\n",
      "13/13 [==============================] - 0s 4ms/step - loss: 0.6243 - accuracy: 0.8575 - val_loss: 0.6343 - val_accuracy: 0.8300\n",
      "Epoch 16/100\n",
      "13/13 [==============================] - 0s 4ms/step - loss: 0.5829 - accuracy: 0.8625 - val_loss: 0.5989 - val_accuracy: 0.8350\n",
      "Epoch 17/100\n",
      "13/13 [==============================] - 0s 4ms/step - loss: 0.5472 - accuracy: 0.8675 - val_loss: 0.5708 - val_accuracy: 0.8550\n",
      "Epoch 18/100\n",
      "13/13 [==============================] - 0s 4ms/step - loss: 0.5166 - accuracy: 0.8750 - val_loss: 0.5442 - val_accuracy: 0.8550\n",
      "Epoch 19/100\n",
      "13/13 [==============================] - 0s 3ms/step - loss: 0.4901 - accuracy: 0.8838 - val_loss: 0.5250 - val_accuracy: 0.8600\n",
      "Epoch 20/100\n",
      "13/13 [==============================] - 0s 3ms/step - loss: 0.4664 - accuracy: 0.8838 - val_loss: 0.5050 - val_accuracy: 0.8750\n",
      "Epoch 21/100\n",
      "13/13 [==============================] - 0s 3ms/step - loss: 0.4460 - accuracy: 0.8838 - val_loss: 0.4889 - val_accuracy: 0.8700\n",
      "Epoch 22/100\n",
      "13/13 [==============================] - 0s 4ms/step - loss: 0.4280 - accuracy: 0.8875 - val_loss: 0.4809 - val_accuracy: 0.8650\n",
      "Epoch 23/100\n",
      "13/13 [==============================] - 0s 4ms/step - loss: 0.4114 - accuracy: 0.8888 - val_loss: 0.4626 - val_accuracy: 0.8750\n",
      "Epoch 24/100\n",
      "13/13 [==============================] - 0s 4ms/step - loss: 0.3956 - accuracy: 0.8938 - val_loss: 0.4517 - val_accuracy: 0.8750\n",
      "Epoch 25/100\n",
      "13/13 [==============================] - 0s 3ms/step - loss: 0.3827 - accuracy: 0.8963 - val_loss: 0.4428 - val_accuracy: 0.8750\n",
      "Epoch 26/100\n",
      "13/13 [==============================] - 0s 3ms/step - loss: 0.3702 - accuracy: 0.9000 - val_loss: 0.4343 - val_accuracy: 0.8700\n",
      "Epoch 27/100\n",
      "13/13 [==============================] - 0s 4ms/step - loss: 0.3600 - accuracy: 0.9025 - val_loss: 0.4251 - val_accuracy: 0.8750\n",
      "Epoch 28/100\n",
      "13/13 [==============================] - 0s 4ms/step - loss: 0.3483 - accuracy: 0.9050 - val_loss: 0.4154 - val_accuracy: 0.8800\n",
      "Epoch 29/100\n",
      "13/13 [==============================] - 0s 4ms/step - loss: 0.3389 - accuracy: 0.9050 - val_loss: 0.4124 - val_accuracy: 0.8850\n",
      "Epoch 30/100\n",
      "13/13 [==============================] - 0s 3ms/step - loss: 0.3290 - accuracy: 0.9038 - val_loss: 0.4006 - val_accuracy: 0.8800\n",
      "Epoch 31/100\n",
      "13/13 [==============================] - 0s 4ms/step - loss: 0.3222 - accuracy: 0.9062 - val_loss: 0.3983 - val_accuracy: 0.8850\n",
      "Epoch 32/100\n",
      "13/13 [==============================] - 0s 4ms/step - loss: 0.3147 - accuracy: 0.9112 - val_loss: 0.3921 - val_accuracy: 0.8800\n",
      "Epoch 33/100\n",
      "13/13 [==============================] - 0s 4ms/step - loss: 0.3073 - accuracy: 0.9125 - val_loss: 0.3864 - val_accuracy: 0.8850\n",
      "Epoch 34/100\n",
      "13/13 [==============================] - 0s 4ms/step - loss: 0.3013 - accuracy: 0.9150 - val_loss: 0.3862 - val_accuracy: 0.8800\n",
      "Epoch 35/100\n",
      "13/13 [==============================] - 0s 3ms/step - loss: 0.2936 - accuracy: 0.9200 - val_loss: 0.3741 - val_accuracy: 0.8850\n",
      "Epoch 36/100\n",
      "13/13 [==============================] - 0s 4ms/step - loss: 0.2883 - accuracy: 0.9212 - val_loss: 0.3724 - val_accuracy: 0.8900\n",
      "Epoch 37/100\n",
      "13/13 [==============================] - 0s 4ms/step - loss: 0.2827 - accuracy: 0.9187 - val_loss: 0.3727 - val_accuracy: 0.8850\n",
      "Epoch 38/100\n",
      "13/13 [==============================] - 0s 4ms/step - loss: 0.2770 - accuracy: 0.9212 - val_loss: 0.3670 - val_accuracy: 0.8900\n",
      "Epoch 39/100\n",
      "13/13 [==============================] - 0s 4ms/step - loss: 0.2738 - accuracy: 0.9225 - val_loss: 0.3658 - val_accuracy: 0.8850\n",
      "Epoch 40/100\n",
      "13/13 [==============================] - 0s 4ms/step - loss: 0.2676 - accuracy: 0.9237 - val_loss: 0.3604 - val_accuracy: 0.8850\n",
      "Epoch 41/100\n",
      "13/13 [==============================] - 0s 3ms/step - loss: 0.2646 - accuracy: 0.9250 - val_loss: 0.3583 - val_accuracy: 0.8800\n",
      "Epoch 42/100\n",
      "13/13 [==============================] - 0s 4ms/step - loss: 0.2589 - accuracy: 0.9275 - val_loss: 0.3571 - val_accuracy: 0.8850\n",
      "Epoch 43/100\n",
      "13/13 [==============================] - 0s 4ms/step - loss: 0.2547 - accuracy: 0.9225 - val_loss: 0.3529 - val_accuracy: 0.8900\n",
      "Epoch 44/100\n",
      "13/13 [==============================] - 0s 4ms/step - loss: 0.2515 - accuracy: 0.9287 - val_loss: 0.3526 - val_accuracy: 0.8900\n",
      "Epoch 45/100\n",
      "13/13 [==============================] - 0s 4ms/step - loss: 0.2467 - accuracy: 0.9287 - val_loss: 0.3484 - val_accuracy: 0.8900\n",
      "Epoch 46/100\n",
      "13/13 [==============================] - 0s 4ms/step - loss: 0.2433 - accuracy: 0.9337 - val_loss: 0.3480 - val_accuracy: 0.8850\n",
      "Epoch 47/100\n",
      "13/13 [==============================] - 0s 4ms/step - loss: 0.2394 - accuracy: 0.9262 - val_loss: 0.3429 - val_accuracy: 0.8900\n",
      "Epoch 48/100\n",
      "13/13 [==============================] - 0s 4ms/step - loss: 0.2369 - accuracy: 0.9337 - val_loss: 0.3445 - val_accuracy: 0.8850\n",
      "Epoch 49/100\n",
      "13/13 [==============================] - 0s 4ms/step - loss: 0.2335 - accuracy: 0.9337 - val_loss: 0.3399 - val_accuracy: 0.8850\n",
      "Epoch 50/100\n",
      "13/13 [==============================] - 0s 3ms/step - loss: 0.2302 - accuracy: 0.9337 - val_loss: 0.3358 - val_accuracy: 0.8850\n",
      "Epoch 51/100\n",
      "13/13 [==============================] - 0s 4ms/step - loss: 0.2275 - accuracy: 0.9312 - val_loss: 0.3334 - val_accuracy: 0.8950\n",
      "Epoch 52/100\n",
      "13/13 [==============================] - 0s 4ms/step - loss: 0.2236 - accuracy: 0.9312 - val_loss: 0.3343 - val_accuracy: 0.8800\n",
      "Epoch 53/100\n",
      "13/13 [==============================] - 0s 4ms/step - loss: 0.2214 - accuracy: 0.9350 - val_loss: 0.3350 - val_accuracy: 0.8800\n",
      "Epoch 54/100\n",
      "13/13 [==============================] - 0s 4ms/step - loss: 0.2189 - accuracy: 0.9312 - val_loss: 0.3319 - val_accuracy: 0.8850\n",
      "Epoch 55/100\n",
      "13/13 [==============================] - 0s 4ms/step - loss: 0.2159 - accuracy: 0.9312 - val_loss: 0.3348 - val_accuracy: 0.8850\n",
      "Epoch 56/100\n",
      "13/13 [==============================] - 0s 4ms/step - loss: 0.2136 - accuracy: 0.9388 - val_loss: 0.3343 - val_accuracy: 0.8900\n",
      "Epoch 57/100\n",
      "13/13 [==============================] - 0s 4ms/step - loss: 0.2109 - accuracy: 0.9375 - val_loss: 0.3333 - val_accuracy: 0.8850\n",
      "Epoch 58/100\n",
      "13/13 [==============================] - 0s 4ms/step - loss: 0.2075 - accuracy: 0.9413 - val_loss: 0.3308 - val_accuracy: 0.8800\n",
      "Epoch 59/100\n",
      "13/13 [==============================] - 0s 4ms/step - loss: 0.2061 - accuracy: 0.9350 - val_loss: 0.3261 - val_accuracy: 0.8850\n",
      "Epoch 60/100\n",
      "13/13 [==============================] - 0s 3ms/step - loss: 0.2033 - accuracy: 0.9362 - val_loss: 0.3292 - val_accuracy: 0.9000\n",
      "Epoch 61/100\n",
      "13/13 [==============================] - 0s 4ms/step - loss: 0.2026 - accuracy: 0.9337 - val_loss: 0.3287 - val_accuracy: 0.8950\n",
      "Epoch 62/100\n",
      "13/13 [==============================] - 0s 4ms/step - loss: 0.1984 - accuracy: 0.9425 - val_loss: 0.3266 - val_accuracy: 0.8850\n",
      "Epoch 63/100\n",
      "13/13 [==============================] - 0s 4ms/step - loss: 0.1976 - accuracy: 0.9375 - val_loss: 0.3295 - val_accuracy: 0.8850\n",
      "Epoch 64/100\n",
      "13/13 [==============================] - 0s 4ms/step - loss: 0.1948 - accuracy: 0.9438 - val_loss: 0.3262 - val_accuracy: 0.8850\n",
      "Epoch 65/100\n",
      "13/13 [==============================] - 0s 4ms/step - loss: 0.1922 - accuracy: 0.9413 - val_loss: 0.3242 - val_accuracy: 0.8950\n",
      "Epoch 66/100\n",
      "13/13 [==============================] - 0s 4ms/step - loss: 0.1900 - accuracy: 0.9438 - val_loss: 0.3277 - val_accuracy: 0.8850\n",
      "Epoch 67/100\n",
      "13/13 [==============================] - 0s 4ms/step - loss: 0.1875 - accuracy: 0.9375 - val_loss: 0.3254 - val_accuracy: 0.8900\n",
      "Epoch 68/100\n",
      "13/13 [==============================] - 0s 4ms/step - loss: 0.1857 - accuracy: 0.9450 - val_loss: 0.3258 - val_accuracy: 0.8950\n",
      "Epoch 69/100\n",
      "13/13 [==============================] - 0s 4ms/step - loss: 0.1831 - accuracy: 0.9425 - val_loss: 0.3273 - val_accuracy: 0.8850\n",
      "Epoch 70/100\n",
      "13/13 [==============================] - 0s 4ms/step - loss: 0.1816 - accuracy: 0.9438 - val_loss: 0.3236 - val_accuracy: 0.8900\n",
      "Epoch 71/100\n",
      "13/13 [==============================] - 0s 4ms/step - loss: 0.1809 - accuracy: 0.9425 - val_loss: 0.3232 - val_accuracy: 0.8900\n",
      "Epoch 72/100\n",
      "13/13 [==============================] - 0s 4ms/step - loss: 0.1782 - accuracy: 0.9463 - val_loss: 0.3180 - val_accuracy: 0.8950\n",
      "Epoch 73/100\n",
      "13/13 [==============================] - 0s 4ms/step - loss: 0.1763 - accuracy: 0.9463 - val_loss: 0.3188 - val_accuracy: 0.9000\n",
      "Epoch 74/100\n",
      "13/13 [==============================] - 0s 3ms/step - loss: 0.1739 - accuracy: 0.9438 - val_loss: 0.3200 - val_accuracy: 0.8950\n",
      "Epoch 75/100\n",
      "13/13 [==============================] - 0s 4ms/step - loss: 0.1722 - accuracy: 0.9475 - val_loss: 0.3202 - val_accuracy: 0.8950\n",
      "Epoch 76/100\n",
      "13/13 [==============================] - 0s 3ms/step - loss: 0.1716 - accuracy: 0.9475 - val_loss: 0.3199 - val_accuracy: 0.9000\n",
      "Epoch 77/100\n",
      "13/13 [==============================] - 0s 3ms/step - loss: 0.1689 - accuracy: 0.9475 - val_loss: 0.3202 - val_accuracy: 0.9050\n",
      "Epoch 78/100\n",
      "13/13 [==============================] - 0s 4ms/step - loss: 0.1678 - accuracy: 0.9488 - val_loss: 0.3215 - val_accuracy: 0.8950\n",
      "Epoch 79/100\n",
      "13/13 [==============================] - 0s 4ms/step - loss: 0.1651 - accuracy: 0.9525 - val_loss: 0.3205 - val_accuracy: 0.8950\n",
      "Epoch 80/100\n",
      "13/13 [==============================] - 0s 5ms/step - loss: 0.1633 - accuracy: 0.9500 - val_loss: 0.3230 - val_accuracy: 0.8950\n",
      "Epoch 81/100\n",
      "13/13 [==============================] - 0s 4ms/step - loss: 0.1621 - accuracy: 0.9525 - val_loss: 0.3219 - val_accuracy: 0.8900\n",
      "Epoch 82/100\n",
      "13/13 [==============================] - 0s 3ms/step - loss: 0.1601 - accuracy: 0.9513 - val_loss: 0.3223 - val_accuracy: 0.8950\n",
      "Epoch 83/100\n",
      "13/13 [==============================] - 0s 3ms/step - loss: 0.1589 - accuracy: 0.9488 - val_loss: 0.3211 - val_accuracy: 0.8900\n",
      "Epoch 84/100\n",
      "13/13 [==============================] - 0s 4ms/step - loss: 0.1566 - accuracy: 0.9525 - val_loss: 0.3232 - val_accuracy: 0.8950\n",
      "Epoch 85/100\n",
      "13/13 [==============================] - 0s 4ms/step - loss: 0.1547 - accuracy: 0.9525 - val_loss: 0.3184 - val_accuracy: 0.9050\n",
      "Epoch 86/100\n",
      "13/13 [==============================] - 0s 4ms/step - loss: 0.1539 - accuracy: 0.9513 - val_loss: 0.3215 - val_accuracy: 0.8950\n",
      "Epoch 87/100\n",
      "13/13 [==============================] - 0s 4ms/step - loss: 0.1515 - accuracy: 0.9525 - val_loss: 0.3237 - val_accuracy: 0.8850\n",
      "Epoch 88/100\n",
      "13/13 [==============================] - 0s 3ms/step - loss: 0.1500 - accuracy: 0.9600 - val_loss: 0.3263 - val_accuracy: 0.8900\n",
      "Epoch 89/100\n",
      "13/13 [==============================] - 0s 3ms/step - loss: 0.1493 - accuracy: 0.9563 - val_loss: 0.3248 - val_accuracy: 0.8800\n",
      "Epoch 90/100\n",
      "13/13 [==============================] - 0s 3ms/step - loss: 0.1473 - accuracy: 0.9588 - val_loss: 0.3225 - val_accuracy: 0.8950\n",
      "Epoch 91/100\n",
      "13/13 [==============================] - 0s 3ms/step - loss: 0.1444 - accuracy: 0.9600 - val_loss: 0.3275 - val_accuracy: 0.8900\n",
      "Epoch 92/100\n",
      "13/13 [==============================] - 0s 4ms/step - loss: 0.1438 - accuracy: 0.9563 - val_loss: 0.3231 - val_accuracy: 0.8900\n",
      "Epoch 93/100\n",
      "13/13 [==============================] - 0s 4ms/step - loss: 0.1422 - accuracy: 0.9625 - val_loss: 0.3240 - val_accuracy: 0.8900\n",
      "Epoch 94/100\n",
      "13/13 [==============================] - 0s 4ms/step - loss: 0.1403 - accuracy: 0.9588 - val_loss: 0.3232 - val_accuracy: 0.8950\n",
      "Epoch 95/100\n",
      "13/13 [==============================] - 0s 3ms/step - loss: 0.1395 - accuracy: 0.9650 - val_loss: 0.3233 - val_accuracy: 0.8850\n",
      "Epoch 96/100\n",
      "13/13 [==============================] - 0s 3ms/step - loss: 0.1383 - accuracy: 0.9613 - val_loss: 0.3184 - val_accuracy: 0.8900\n",
      "Epoch 97/100\n",
      "13/13 [==============================] - 0s 3ms/step - loss: 0.1368 - accuracy: 0.9625 - val_loss: 0.3234 - val_accuracy: 0.8850\n",
      "Epoch 98/100\n",
      "13/13 [==============================] - 0s 3ms/step - loss: 0.1362 - accuracy: 0.9600 - val_loss: 0.3259 - val_accuracy: 0.8800\n",
      "Epoch 99/100\n",
      "13/13 [==============================] - 0s 3ms/step - loss: 0.1347 - accuracy: 0.9663 - val_loss: 0.3284 - val_accuracy: 0.9000\n",
      "Epoch 100/100\n",
      "13/13 [==============================] - 0s 3ms/step - loss: 0.1330 - accuracy: 0.9675 - val_loss: 0.3291 - val_accuracy: 0.8950\n"
     ]
    }
   ],
   "source": [
    "history = model.fit(x_train, y_train, batch_size=64,epochs=100, validation_split= .2)"
   ]
  },
  {
   "cell_type": "code",
   "execution_count": 26,
   "id": "f7b3d78f",
   "metadata": {},
   "outputs": [
    {
     "data": {
      "text/plain": [
       "Text(0, 0.5, 'Accuracy')"
      ]
     },
     "execution_count": 26,
     "metadata": {},
     "output_type": "execute_result"
    },
    {
     "data": {
      "image/png": "[encoded data removed]",
      "text/plain": [
       "<Figure size 640x480 with 1 Axes>"
      ]
     },
     "metadata": {},
     "output_type": "display_data"
    },
    {
     "data": {
      "image/png": "[encoded data removed]",
      "text/plain": [
       "<Figure size 640x480 with 1 Axes>"
      ]
     },
     "metadata": {},
     "output_type": "display_data"
    }
   ],
   "source": [
    "import matplotlib.pyplot as plt\n",
    "\n",
    "plt.figure(1)\n",
    "plt.plot(history.history['val_accuracy'])\n",
    "plt.title('Validation Accuracy')\n",
    "plt.xlabel('Epoch')\n",
    "plt.ylabel('Accuracy')\n",
    "\n",
    "plt.figure(2) \n",
    "plt.plot(history.history['accuracy'])\n",
    "plt.title('Training Accuracy')\n",
    "plt.xlabel('Epoch')\n",
    "plt.ylabel('Accuracy')"
   ]
  },
  {
   "cell_type": "code",
   "execution_count": 27,
   "id": "9cd5a13a",
   "metadata": {},
   "outputs": [
    {
     "name": "stdout",
     "output_type": "stream",
     "text": [
      "7/7 [==============================] - 0s 13ms/step - loss: 0.2717 - accuracy: 0.9100\n",
      "testing loss : 0.2717253267765045 and testing accuary :0.9100000262260437\n"
     ]
    }
   ],
   "source": [
    "loss , acc = model.evaluate(x_test, y_test)\n",
    "print(f'testing loss : {loss} and testing accuary :{acc}')"
   ]
  }
 ],
 "metadata": {
  "kernelspec": {
   "display_name": "tf",
   "language": "python",
   "name": "python3"
  },
  "language_info": {
   "codemirror_mode": {
    "name": "ipython",
    "version": 3
   },
   "file_extension": ".py",
   "mimetype": "text/x-python",
   "name": "python",
   "nbconvert_exporter": "python",
   "pygments_lexer": "ipython3",
   "version": "3.10.13"
  }
 },
 "nbformat": 4,
 "nbformat_minor": 5
}
