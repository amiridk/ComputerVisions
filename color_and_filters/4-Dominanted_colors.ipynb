{
 "cells": [
  {
   "cell_type": "markdown",
   "metadata": {},
   "source": [
    "# this is my note for starting Image Processing \n"
   ]
  },
  {
   "cell_type": "markdown",
   "metadata": {},
   "source": [
    "### In image processing, identifying the dominant colors within an image is a common task that can be achieved using machine learning techniques such as K-Means clustering. K-Means is an unsupervised learning algorithm that groups data points into a predefined number of clusters (K) based on their similarity.\n",
    ">   When applied to an image, the pixel values (often in RGB or another color space) are treated as data points. The algorithm iteratively assigns each pixel to the nearest cluster centroid and updates the centroids until convergence. The resulting centroids represent the dominant colors in the image, as they are the average colors of the clusters formed. By analyzing the distribution of pixels across these clusters, the most prominent colors can be identified. This approach is widely used in applications like image compression, color-based image segmentation, and visual aesthetics analysis. The choice of K determines the number of dominant colors extracted, allowing flexibility depending on the desired level of detail.\n",
    "\n",
    "<div style=\"display: grid; grid-template-columns: repeat(2, 1fr); gap: 10px;\">\n",
    "  <h1 style=\"color: green;\">- Dominant Colors</h1>\n",
    "\n",
    "\n",
    "</div>\n",
    "<div style=\"display: grid; grid-template-columns: repeat(2, 1fr); gap: 10px;\">\n",
    "  <h4 style=\"color:rgb(86, 143, 143) ;\">- Amirreza zare <br/> - 3/7/2025 </h4>\n",
    "</div>"
   ]
  },
  {
   "cell_type": "code",
   "execution_count": 1,
   "metadata": {},
   "outputs": [
    {
     "name": "stdout",
     "output_type": "stream",
     "text": [
      "[[ 12 142  80]\n",
      " [  9 183 246]\n",
      " [ 13  35 127]\n",
      " [ 36  77 208]\n",
      " [  2  62  16]]\n",
      "[3 3 3 ... 4 4 4]\n"
     ]
    }
   ],
   "source": [
    "import cv2\n",
    "import numpy as np\n",
    "from sklearn.cluster import KMeans\n",
    "import matplotlib.pyplot as plt\n",
    "\n",
    "n_cluster = 5\n",
    "img = cv2.imread(\"../data/images/felfel-dolme.jpg\")\n",
    "flat_img = img.reshape((-1, 3))\n",
    "\n",
    "kmeans = KMeans(n_clusters=n_cluster)\n",
    "kmeans.fit(flat_img)\n",
    "\n",
    "dominant_colors = np.array(kmeans.cluster_centers_, dtype=\"uint\")\n",
    "labels = kmeans.labels_\n",
    "\n",
    "print(dominant_colors)\n",
    "print(labels)"
   ]
  },
  {
   "cell_type": "code",
   "execution_count": 2,
   "metadata": {},
   "outputs": [
    {
     "data": {
      "text/plain": [
       "(array([0, 1, 2, 3, 4]),\n",
       " array([131384, 324957,  91605, 150286, 250248], dtype=int64))"
      ]
     },
     "execution_count": 2,
     "metadata": {},
     "output_type": "execute_result"
    }
   ],
   "source": [
    "np.unique(labels , return_counts =True )"
   ]
  },
  {
   "cell_type": "code",
   "execution_count": 3,
   "metadata": {},
   "outputs": [
    {
     "data": {
      "text/plain": [
       "array([131384, 324957,  91605, 150286, 250248], dtype=int64)"
      ]
     },
     "execution_count": 3,
     "metadata": {},
     "output_type": "execute_result"
    }
   ],
   "source": [
    "np.bincount(labels)"
   ]
  },
  {
   "cell_type": "code",
   "execution_count": 4,
   "metadata": {},
   "outputs": [
    {
     "data": {
      "text/plain": [
       "array([0.13852058, 0.34260817, 0.09658085, 0.15844931, 0.26384109])"
      ]
     },
     "execution_count": 4,
     "metadata": {},
     "output_type": "execute_result"
    }
   ],
   "source": [
    "perecentages = np.bincount(labels) / len(flat_img)\n",
    "perecentages"
   ]
  },
  {
   "cell_type": "code",
   "execution_count": 5,
   "metadata": {},
   "outputs": [],
   "source": [
    "p_and_c = zip(perecentages , dominant_colors)\n",
    "p_and_c = sorted(p_and_c, reverse=True)"
   ]
  },
  {
   "cell_type": "code",
   "execution_count": 7,
   "metadata": {},
   "outputs": [
    {
     "data": {
      "image/png": "[encoded data removed]",
      "text/plain": [
       "<Figure size 1200x800 with 5 Axes>"
      ]
     },
     "metadata": {},
     "output_type": "display_data"
    }
   ],
   "source": [
    "\n",
    "block = np.ones((50,50,3), dtype='uint')\n",
    "plt.figure(figsize=[12, 8])\n",
    "for i in range(n_cluster):\n",
    "    plt.subplot(1,n_cluster, i+1)\n",
    "    block[:] = p_and_c[i][1][::-1]\n",
    "    plt.imshow(block)\n",
    "    plt.xlabel(f\"{round(p_and_c[i][0]*100,2)} %\")"
   ]
  },
  {
   "cell_type": "code",
   "execution_count": 19,
   "metadata": {},
   "outputs": [],
   "source": [
    "# FREE UP MEMORY AND RESOURCES\n",
    "import gc\n",
    "\n",
    "gc.collect()\n",
    "%reset -f"
   ]
  },
  {
   "cell_type": "code",
   "execution_count": 1,
   "metadata": {},
   "outputs": [],
   "source": [
    "import cv2 \n",
    "import numpy as np \n",
    "import matplotlib.pyplot as plt\n",
    "\n",
    "cap = cv2.VideoCapture('../data/videos/blue-track.mp4')\n",
    "\n",
    "while True : \n",
    "    ret , frame = cap.read()\n",
    "    if not ret :\n",
    "        break\n",
    "    hsv = cv2.cvtColor(frame , cv2.COLOR_BGR2HSV)\n",
    "    \n",
    "    lower = np.array([100 ,50,50])\n",
    "    upper = np.array([130 ,255,255])\n",
    "    \n",
    "    mask = cv2.inRange(hsv, lower, upper)\n",
    "    contours , _ = cv2.findContours(mask, cv2.RETR_EXTERNAL, cv2.CHAIN_APPROX_SIMPLE)\n",
    "    center , radius = cv2.minEnclosingCircle(contours[0])\n",
    "    center = (int(center[0]), int(center[1]))\n",
    "    radius = int(radius)\n",
    "    cv2.circle(frame, center, radius, (0, 0, 255), 2)\n",
    "    cv2.imshow('frame', frame)\n",
    "\n",
    "    key = cv2.waitKey(5) & 0xFF\n",
    "    if key == 27 :\n",
    "        break\n",
    "cv2.destroyAllWindows()\n",
    "cap.release()"
   ]
  },
  {
   "cell_type": "code",
   "execution_count": 2,
   "metadata": {},
   "outputs": [],
   "source": [
    "# FREE UP MEMORY AND RESOURCES\n",
    "import gc\n",
    "\n",
    "gc.collect()\n",
    "%reset -f"
   ]
  },
  {
   "cell_type": "code",
   "execution_count": 5,
   "metadata": {},
   "outputs": [],
   "source": [
    "import cv2\n",
    "import numpy as np\n",
    "\n",
    "cap = cv2.VideoCapture(0)\n",
    "\n",
    "while True:\n",
    "    ret, frame = cap.read()\n",
    "    if not ret:\n",
    "        break\n",
    "    hsv = cv2.cvtColor(frame, cv2.COLOR_BGR2HSV)\n",
    "    \n",
    "    lower_blue = np.array([100,50,50])\n",
    "    upper_blue = np.array([130,255,255])\n",
    "    \n",
    "    mask = cv2.inRange(hsv, lower_blue, upper_blue)\n",
    "    res = cv2.bitwise_and(frame,frame, mask= mask)\n",
    "\n",
    "    cv2.imshow('res',res)\n",
    "    \n",
    "    k = cv2.waitKey(5) & 0xFF\n",
    "    if k == 27:\n",
    "        break\n",
    "\n",
    "cv2.destroyAllWindows()\n",
    "cap.release()"
   ]
  }
 ],
 "metadata": {
  "kernelspec": {
   "display_name": "base",
   "language": "python",
   "name": "python3"
  },
  "language_info": {
   "codemirror_mode": {
    "name": "ipython",
    "version": 3
   },
   "file_extension": ".py",
   "mimetype": "text/x-python",
   "name": "python",
   "nbconvert_exporter": "python",
   "pygments_lexer": "ipython3",
   "version": "3.12.7"
  }
 },
 "nbformat": 4,
 "nbformat_minor": 2
}
