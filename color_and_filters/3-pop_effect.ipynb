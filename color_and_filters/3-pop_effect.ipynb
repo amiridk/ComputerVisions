{
 "cells": [
  {
   "cell_type": "markdown",
   "metadata": {},
   "source": [
    "# this is my note for starting Image Processing \n"
   ]
  },
  {
   "cell_type": "markdown",
   "metadata": {},
   "source": [
    "### The pop effect in image processing refers to a technique used to make certain elements of an image stand out more prominently, creating a sense of depth and visual interest. This effect is often achieved by enhancing the contrast, \n",
    "\n",
    "\n",
    ">  saturation, or sharpness of the subject while subtly desaturating or blurring the background. By doing so, the subject appears to \"pop\" out of the image, drawing the viewer's attention directly to it. This method is widely used in photography, graphic design, and advertising to emphasize key elements, such as a product or a person, and to create a more dynamic and engaging visual experience. The pop effect can be applied manually using editing software like Photoshop or through automated filters and tools that simplify the process for users.\n",
    "\n",
    "<div style=\"display: grid; grid-template-columns: repeat(2, 1fr); gap: 10px;\">\n",
    "  <h1 style=\"color: green;\">- Pop Effect</h1>\n",
    "\n",
    "</div>\n",
    "<div style=\"display: grid; grid-template-columns: repeat(2, 1fr); gap: 10px;\">\n",
    "  <h4 style=\"color:rgb(86, 143, 143) ;\">- Amirreza zare <br/> - 3/7/2025 </h4>\n",
    "</div>"
   ]
  },
  {
   "cell_type": "code",
   "execution_count": null,
   "metadata": {},
   "outputs": [
    {
     "name": "stdout",
     "output_type": "stream",
     "text": [
      "bgr : [[[ 93 124 169]]]\n",
      "hsv : [[[ 12 115 169]]]\n",
      "bgr : [[[145 149 150]]]\n",
      "hsv : [[[ 24   8 150]]]\n",
      "bgr : [[[ 42  34 111]]]\n",
      "hsv : [[[177 177 111]]]\n",
      "bgr : [[[30 31 65]]]\n",
      "hsv : [[[  1 137  65]]]\n",
      "bgr : [[[130 125 116]]]\n",
      "hsv : [[[101  27 130]]]\n",
      "bgr : [[[66 63 58]]]\n",
      "hsv : [[[101  31  66]]]\n",
      "bgr : [[[90 87 82]]]\n",
      "hsv : [[[101  23  90]]]\n",
      "bgr : [[[118 123 138]]]\n",
      "hsv : [[[  8  37 138]]]\n",
      "bgr : [[[97 94 90]]]\n",
      "hsv : [[[103  18  97]]]\n",
      "bgr : [[[82 80 69]]]\n",
      "hsv : [[[95 40 82]]]\n",
      "bgr : [[[73 72 58]]]\n",
      "hsv : [[[92 52 73]]]\n",
      "bgr : [[[46 44 36]]]\n",
      "hsv : [[[96 55 46]]]\n",
      "bgr : [[[87 79 72]]]\n",
      "hsv : [[[106  44  87]]]\n",
      "bgr : [[[103 101  90]]]\n",
      "hsv : [[[ 95  32 103]]]\n",
      "bgr : [[[110 106 111]]]\n",
      "hsv : [[[156  11 111]]]\n",
      "bgr : [[[70 68 50]]]\n",
      "hsv : [[[93 73 70]]]\n",
      "bgr : [[[56 56 56]]]\n",
      "hsv : [[[ 0  0 56]]]\n",
      "bgr : [[[50 48 47]]]\n",
      "hsv : [[[110  15  50]]]\n",
      "bgr : [[[84 83 69]]]\n",
      "hsv : [[[92 46 84]]]\n"
     ]
    }
   ],
   "source": [
    "import cv2\n",
    "import numpy as np\n",
    "import matplotlib.pyplot as plt\n",
    "\n",
    "img = cv2.imread('../data/images/PopEffects.jpeg')\n",
    "\n",
    "def draw_circle(event,x,y,flags,param):\n",
    "    global img\n",
    "    if event == cv2.EVENT_LBUTTONDOWN:\n",
    "        bgr = img[x:x+1 , y:y+1 , :]\n",
    "        print(f'bgr : {bgr}')\n",
    "        hsv = cv2.cvtColor(bgr, cv2.COLOR_BGR2HSV)\n",
    "        print(f'hsv : {hsv}')\n",
    "        cv2.circle(img, (x, y), 5, (0, 255, 0), +2)\n",
    "\n",
    "\n",
    "\n",
    "cv2.namedWindow(winname='my_drawing')\n",
    "cv2.setMouseCallback('my_drawing', draw_circle)\n",
    "while True:\n",
    "    cv2.imshow('my_drawing', img)\n",
    "    if cv2.waitKey(20) & 0xFF == 27:\n",
    "        break\n",
    "\n",
    "\n",
    "cv2.destroyAllWindows()\n"
   ]
  },
  {
   "cell_type": "code",
   "execution_count": 2,
   "metadata": {},
   "outputs": [],
   "source": [
    "import cv2\n",
    "import numpy as np\n",
    "\n",
    "image = cv2.imread(\"../data/images/PopEffects.jpeg\")\n",
    "new_image = image.copy()\n",
    "\n",
    "def pop_effect(image , lower , upper):\n",
    "    img = image.copy()\n",
    "    hsv = cv2.cvtColor(img, cv2.COLOR_BGR2HSV)\n",
    "    gray = cv2.cvtColor(img, cv2.COLOR_BGR2GRAY)\n",
    "    mask = cv2.inRange(hsv, lower, upper)\n",
    "    \n",
    "    mask_inv = cv2.bitwise_not(mask)\n",
    "    res = cv2.bitwise_and(img, img, mask=mask)\n",
    "    backgroud = cv2.bitwise_and(gray, gray, mask=mask_inv)\n",
    "    backgroud = cv2.merge([backgroud] * 3)\n",
    "    return cv2.add(res, backgroud)\n",
    "\n",
    "def apply_pop_effect(event,x,y,flags,param , crange=10):\n",
    "    global image , new_image\n",
    "    if event == cv2.EVENT_LBUTTONDOWN:\n",
    "        hsv = cv2.cvtColor(image, cv2.COLOR_BGR2HSV)\n",
    "        h,s,v = hsv[y, x , :]\n",
    "        lower_h = max(0, h-crange)\n",
    "        upper_h = min(179, h+crange)\n",
    "        lower = np.array([lower_h, 50, 50])\n",
    "        upper = np.array([upper_h, 255, 255])\n",
    "        new_image  = pop_effect(image, lower, upper)\n",
    "        cv2.imshow(\"image\", new_image)\n",
    "\n",
    "cv2.namedWindow('image')\n",
    "cv2.setMouseCallback('image', apply_pop_effect)\n",
    "while True:\n",
    "    cv2.imshow(\"image\", new_image)\n",
    "    if cv2.waitKey(1) & 0xFF == ord('q'):\n",
    "        break\n",
    "    \n",
    "cv2.destroyAllWindows()"
   ]
  },
  {
   "cell_type": "code",
   "execution_count": 3,
   "metadata": {},
   "outputs": [],
   "source": [
    "# FREE UP MEMORY AND RESOURCES\n",
    "import gc\n",
    "\n",
    "gc.collect()\n",
    "%reset -f"
   ]
  }
 ],
 "metadata": {
  "kernelspec": {
   "display_name": "base",
   "language": "python",
   "name": "python3"
  },
  "language_info": {
   "codemirror_mode": {
    "name": "ipython",
    "version": 3
   },
   "file_extension": ".py",
   "mimetype": "text/x-python",
   "name": "python",
   "nbconvert_exporter": "python",
   "pygments_lexer": "ipython3",
   "version": "3.12.7"
  }
 },
 "nbformat": 4,
 "nbformat_minor": 2
}
